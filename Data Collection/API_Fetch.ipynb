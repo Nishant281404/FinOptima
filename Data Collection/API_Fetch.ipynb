{
 "cells": [
  {
   "cell_type": "code",
   "execution_count": 2,
   "id": "0fe993a9-8837-41d0-885e-fce7597094bd",
   "metadata": {},
   "outputs": [],
   "source": [
    "import pandas as pd"
   ]
  },
  {
   "cell_type": "code",
   "execution_count": 3,
   "id": "22da78d3-3494-439a-9af4-72ef954c3460",
   "metadata": {},
   "outputs": [],
   "source": [
    "from binance.client import Client"
   ]
  },
  {
   "cell_type": "code",
   "execution_count": 4,
   "id": "d6071a98-d9a4-46a3-aecd-4249ea73450e",
   "metadata": {},
   "outputs": [],
   "source": [
    "from datetime import datetime, timedelta\n",
    "import time"
   ]
  },
  {
   "cell_type": "code",
   "execution_count": 5,
   "id": "6897ab81-b5f2-4b49-bf16-21ea3c119e47",
   "metadata": {},
   "outputs": [],
   "source": [
    "# Define Binance API keys\n",
    "api_key = \"use own\"\n",
    "api_secret = \"use own\"\n",
    "\n",
    "# Initialize Binance client\n",
    "client = Client(api_key, api_secret)"
   ]
  },
  {
   "cell_type": "code",
   "execution_count": 7,
   "id": "2d117128-c312-4887-ac42-7cd8aaae2d52",
   "metadata": {},
   "outputs": [
    {
     "name": "stdout",
     "output_type": "stream",
     "text": [
      "Task Completed: Data fetch for all symbols (15-minute interval) is done and saved.\n"
     ]
    }
   ],
   "source": [
    "\n",
    "# Define the symbols and interval\n",
    "symbols = [\"SHIBUSDT\"]  # Added SHIBA (SHIB)\n",
    "interval = Client.KLINE_INTERVAL_15MINUTE  # Set the interval to 15 minutes\n",
    "\n",
    "# Desired row count\n",
    "desired_rows = 100000  \n",
    "\n",
    "# Create an empty dictionary to store data\n",
    "data_dict = {}\n",
    "\n",
    "# Loop through each symbol\n",
    "for symbol in symbols:\n",
    "    \n",
    "    # Initialize an empty DataFrame to store the data for this symbol\n",
    "    all_data = pd.DataFrame()\n",
    "\n",
    "    # First fetch the most recent 15-minute candlestick to determine the start time\n",
    "    klines = client.get_historical_klines(symbol, interval, \"1 day ago UTC\", limit=1)\n",
    "    columns = [\n",
    "        \"Open time\", \"Open\", \"High\", \"Low\", \"Close\", \"Volume\",\n",
    "        \"Close time\", \"Quote asset volume\", \"Number of trades\",\n",
    "        \"Taker buy base asset volume\", \"Taker buy quote asset volume\", \"Ignore\"\n",
    "    ]\n",
    "    df = pd.DataFrame(klines, columns=columns)\n",
    "    df[\"Open time\"] = pd.to_datetime(df[\"Open time\"], unit=\"ms\")\n",
    "    df[\"Close time\"] = pd.to_datetime(df[\"Close time\"], unit=\"ms\")\n",
    "    df = df.drop(columns=[\"Ignore\"])  # Drop unnecessary column\n",
    "    \n",
    "    # Set the start time as the most recent \"Close time\"\n",
    "    start_time = df[\"Close time\"].iloc[-1]\n",
    "\n",
    "    rows_fetched = 0\n",
    "    \n",
    "    # Keep fetching data until the desired number of rows is reached\n",
    "    while rows_fetched < desired_rows:\n",
    "        # Fetch data in chunks (500 rows per request)\n",
    "        klines = client.get_historical_klines(\n",
    "            symbol, \n",
    "            interval, \n",
    "            start_time.strftime(\"%Y-%m-%d %H:%M:%S\"),  # Start from the last Close time\n",
    "            limit=500  # Limit to 500 data points per request\n",
    "        )\n",
    "        \n",
    "        # Check if any data was returned\n",
    "        if not klines:\n",
    "            print(f\"No data returned for {symbol} at {start_time}. Skipping.\")\n",
    "            break\n",
    "        \n",
    "        # Create a DataFrame for the current chunk\n",
    "        df = pd.DataFrame(klines, columns=columns)\n",
    "        df[\"Open time\"] = pd.to_datetime(df[\"Open time\"], unit=\"ms\")\n",
    "        df[\"Close time\"] = pd.to_datetime(df[\"Close time\"], unit=\"ms\")\n",
    "        df = df.drop(columns=[\"Ignore\"])  # Drop unnecessary column\n",
    "        \n",
    "        # Check if the DataFrame is not empty\n",
    "        if not df.empty:\n",
    "            # Append the new data to the main DataFrame\n",
    "            all_data = pd.concat([all_data, df], ignore_index=True)\n",
    "            \n",
    "            # Update the number of rows fetched\n",
    "            rows_fetched = len(all_data)\n",
    "            \n",
    "            \n",
    "            # Update the start_time for the next chunk of data (go backwards)\n",
    "            start_time = df[\"Open time\"].iloc[0]  # Set start_time to the first Open time of the chunk\n",
    "        else:\n",
    "            print(f\"Skipping empty data for {symbol}.\")\n",
    "            break\n",
    "        \n",
    "        # Sleep to avoid hitting API rate limits\n",
    "        time.sleep(1)  # Adjust as needed to avoid rate limit issues\n",
    "\n",
    "    # Store the data for this symbol if data was fetched\n",
    "    if not all_data.empty:\n",
    "        data_dict[symbol] = all_data\n",
    "        # Save each crypto's data to a CSV file\n",
    "        all_data.to_csv(f\"{symbol}_15min_data.csv\", index=False)\n",
    "\n",
    "# Combine all crypto data into a single DataFrame\n",
    "if data_dict:\n",
    "    combined_data = pd.concat(data_dict.values(), axis=1, keys=data_dict.keys())\n",
    "\n",
    "    # Save combined data to a CSV\n",
    "    combined_data.to_csv(\"SHIBUSDT100000.csv\")\n",
    "\n",
    "    # Print task completion message\n",
    "    print(\"Task Completed: Data fetch for all symbols (15-minute interval) is done and saved.\")\n",
    "else:\n",
    "    print(\"No data was fetched for any symbols.\")\n"
   ]
  },
  {
   "cell_type": "code",
   "execution_count": null,
   "id": "0c57aea8-3017-411e-bef1-a38f0ddea09e",
   "metadata": {},
   "outputs": [],
   "source": []
  }
 ],
 "metadata": {
  "kernelspec": {
   "display_name": "Python 3 (ipykernel)",
   "language": "python",
   "name": "python3"
  },
  "language_info": {
   "codemirror_mode": {
    "name": "ipython",
    "version": 3
   },
   "file_extension": ".py",
   "mimetype": "text/x-python",
   "name": "python",
   "nbconvert_exporter": "python",
   "pygments_lexer": "ipython3",
   "version": "3.12.7"
  }
 },
 "nbformat": 4,
 "nbformat_minor": 5
}
