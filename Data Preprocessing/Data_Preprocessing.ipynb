{
 "cells": [
  {
   "cell_type": "code",
   "execution_count": 1,
   "id": "c851def9-26b9-4c86-a148-0e753b948e6a",
   "metadata": {},
   "outputs": [],
   "source": [
    "import numpy as np"
   ]
  },
  {
   "cell_type": "code",
   "execution_count": 2,
   "id": "db253d04-0df3-411c-96ed-5af78a328e36",
   "metadata": {},
   "outputs": [],
   "source": [
    "import pandas as pd"
   ]
  },
  {
   "cell_type": "code",
   "execution_count": 4,
   "id": "53850c58-5c7a-455c-bf72-29c32cd85e81",
   "metadata": {},
   "outputs": [],
   "source": [
    "import datetime"
   ]
  },
  {
   "cell_type": "code",
   "execution_count": 8,
   "id": "6f468785-29af-41c7-9fda-abc01c0a395e",
   "metadata": {},
   "outputs": [],
   "source": [
    "import warnings\n",
    "warnings.filterwarnings(\"ignore\")"
   ]
  },
  {
   "cell_type": "code",
   "execution_count": 83,
   "id": "ca710a33-42a7-4874-ae73-085589c7035a",
   "metadata": {},
   "outputs": [],
   "source": [
    "df = pd.read_csv(\"SHIBUSDT100000.csv\")"
   ]
  },
  {
   "cell_type": "code",
   "execution_count": 84,
   "id": "a9fc254c-d213-42fc-a3ee-1ff3ffc7c136",
   "metadata": {},
   "outputs": [
    {
     "name": "stdout",
     "output_type": "stream",
     "text": [
      "Unnamed: 0                              NaN\n",
      "SHIBUSDT                          Open time\n",
      "SHIBUSDT.1                             Open\n",
      "SHIBUSDT.2                             High\n",
      "SHIBUSDT.3                              Low\n",
      "SHIBUSDT.4                            Close\n",
      "SHIBUSDT.5                           Volume\n",
      "SHIBUSDT.6                       Close time\n",
      "SHIBUSDT.7               Quote asset volume\n",
      "SHIBUSDT.8                 Number of trades\n",
      "SHIBUSDT.9      Taker buy base asset volume\n",
      "SHIBUSDT.10    Taker buy quote asset volume\n",
      "Name: 0, dtype: object\n"
     ]
    }
   ],
   "source": [
    "print(df.iloc[0])"
   ]
  },
  {
   "cell_type": "code",
   "execution_count": 85,
   "id": "b8c9b4a2-4f27-43d8-bf03-f4bcf4b906f4",
   "metadata": {},
   "outputs": [],
   "source": [
    "# Step 1: Set the first row (index 0) as the column headers\n",
    "df.columns = df.iloc[0]  # Make the first row as header\n",
    "\n",
    "# Step 2: Drop the first row (now the header row)\n",
    "df = df.drop(df.index[0])  # Drop the row that is now the header\n",
    "\n",
    "# Step 3: Reset the index to clean the DataFrame\n",
    "df = df.reset_index(drop=True)"
   ]
  },
  {
   "cell_type": "code",
   "execution_count": 86,
   "id": "6da54071-6995-4679-8c23-766367806bd8",
   "metadata": {},
   "outputs": [
    {
     "data": {
      "text/html": [
       "<div>\n",
       "<style scoped>\n",
       "    .dataframe tbody tr th:only-of-type {\n",
       "        vertical-align: middle;\n",
       "    }\n",
       "\n",
       "    .dataframe tbody tr th {\n",
       "        vertical-align: top;\n",
       "    }\n",
       "\n",
       "    .dataframe thead th {\n",
       "        text-align: right;\n",
       "    }\n",
       "</style>\n",
       "<table border=\"1\" class=\"dataframe\">\n",
       "  <thead>\n",
       "    <tr style=\"text-align: right;\">\n",
       "      <th></th>\n",
       "      <th>NaN</th>\n",
       "      <th>Open time</th>\n",
       "      <th>Open</th>\n",
       "      <th>High</th>\n",
       "      <th>Low</th>\n",
       "      <th>Close</th>\n",
       "      <th>Volume</th>\n",
       "      <th>Close time</th>\n",
       "      <th>Quote asset volume</th>\n",
       "      <th>Number of trades</th>\n",
       "      <th>Taker buy base asset volume</th>\n",
       "      <th>Taker buy quote asset volume</th>\n",
       "    </tr>\n",
       "  </thead>\n",
       "  <tbody>\n",
       "    <tr>\n",
       "      <th>0</th>\n",
       "      <td>0.0</td>\n",
       "      <td>2024-11-29 19:15:00</td>\n",
       "      <td>0.00002586</td>\n",
       "      <td>0.00002600</td>\n",
       "      <td>0.00002584</td>\n",
       "      <td>0.00002597</td>\n",
       "      <td>37496939828.00</td>\n",
       "      <td>2024-11-29 19:29:59.999</td>\n",
       "      <td>972646.83781410</td>\n",
       "      <td>27928</td>\n",
       "      <td>21905153051.00</td>\n",
       "      <td>568208.64802220</td>\n",
       "    </tr>\n",
       "    <tr>\n",
       "      <th>1</th>\n",
       "      <td>1.0</td>\n",
       "      <td>2024-11-29 19:30:00</td>\n",
       "      <td>0.00002597</td>\n",
       "      <td>0.00002612</td>\n",
       "      <td>0.00002596</td>\n",
       "      <td>0.00002609</td>\n",
       "      <td>26725324600.00</td>\n",
       "      <td>2024-11-29 19:44:59.999</td>\n",
       "      <td>696462.58992786</td>\n",
       "      <td>23467</td>\n",
       "      <td>12605369474.00</td>\n",
       "      <td>328584.11842119</td>\n",
       "    </tr>\n",
       "    <tr>\n",
       "      <th>2</th>\n",
       "      <td>2.0</td>\n",
       "      <td>2024-11-29 19:45:00</td>\n",
       "      <td>0.00002609</td>\n",
       "      <td>0.00002624</td>\n",
       "      <td>0.00002608</td>\n",
       "      <td>0.00002620</td>\n",
       "      <td>69224716464.00</td>\n",
       "      <td>2024-11-29 19:59:59.999</td>\n",
       "      <td>1809911.34886240</td>\n",
       "      <td>28201</td>\n",
       "      <td>35851991393.00</td>\n",
       "      <td>937393.54961129</td>\n",
       "    </tr>\n",
       "    <tr>\n",
       "      <th>3</th>\n",
       "      <td>3.0</td>\n",
       "      <td>2024-11-29 20:00:00</td>\n",
       "      <td>0.00002621</td>\n",
       "      <td>0.00002623</td>\n",
       "      <td>0.00002610</td>\n",
       "      <td>0.00002613</td>\n",
       "      <td>58428525381.00</td>\n",
       "      <td>2024-11-29 20:14:59.999</td>\n",
       "      <td>1528261.51287951</td>\n",
       "      <td>29693</td>\n",
       "      <td>24893874104.00</td>\n",
       "      <td>651652.62798692</td>\n",
       "    </tr>\n",
       "    <tr>\n",
       "      <th>4</th>\n",
       "      <td>4.0</td>\n",
       "      <td>2024-11-29 20:15:00</td>\n",
       "      <td>0.00002613</td>\n",
       "      <td>0.00002625</td>\n",
       "      <td>0.00002612</td>\n",
       "      <td>0.00002625</td>\n",
       "      <td>34867426582.00</td>\n",
       "      <td>2024-11-29 20:29:59.999</td>\n",
       "      <td>913351.20503113</td>\n",
       "      <td>20282</td>\n",
       "      <td>25188974256.00</td>\n",
       "      <td>659988.96366782</td>\n",
       "    </tr>\n",
       "  </tbody>\n",
       "</table>\n",
       "</div>"
      ],
      "text/plain": [
       "0  NaN            Open time        Open        High         Low       Close  \\\n",
       "0  0.0  2024-11-29 19:15:00  0.00002586  0.00002600  0.00002584  0.00002597   \n",
       "1  1.0  2024-11-29 19:30:00  0.00002597  0.00002612  0.00002596  0.00002609   \n",
       "2  2.0  2024-11-29 19:45:00  0.00002609  0.00002624  0.00002608  0.00002620   \n",
       "3  3.0  2024-11-29 20:00:00  0.00002621  0.00002623  0.00002610  0.00002613   \n",
       "4  4.0  2024-11-29 20:15:00  0.00002613  0.00002625  0.00002612  0.00002625   \n",
       "\n",
       "0          Volume               Close time Quote asset volume  \\\n",
       "0  37496939828.00  2024-11-29 19:29:59.999    972646.83781410   \n",
       "1  26725324600.00  2024-11-29 19:44:59.999    696462.58992786   \n",
       "2  69224716464.00  2024-11-29 19:59:59.999   1809911.34886240   \n",
       "3  58428525381.00  2024-11-29 20:14:59.999   1528261.51287951   \n",
       "4  34867426582.00  2024-11-29 20:29:59.999    913351.20503113   \n",
       "\n",
       "0 Number of trades Taker buy base asset volume Taker buy quote asset volume  \n",
       "0            27928              21905153051.00              568208.64802220  \n",
       "1            23467              12605369474.00              328584.11842119  \n",
       "2            28201              35851991393.00              937393.54961129  \n",
       "3            29693              24893874104.00              651652.62798692  \n",
       "4            20282              25188974256.00              659988.96366782  "
      ]
     },
     "execution_count": 86,
     "metadata": {},
     "output_type": "execute_result"
    }
   ],
   "source": [
    "df.head()"
   ]
  },
  {
   "cell_type": "code",
   "execution_count": 87,
   "id": "59b5e733-6adb-4ec2-86f5-9d5eb7683713",
   "metadata": {},
   "outputs": [],
   "source": [
    "df.to_csv(\"SHIBUSDT_UPDATED\")"
   ]
  },
  {
   "cell_type": "code",
   "execution_count": null,
   "id": "9ac2a885-2a43-43ee-83ad-216e52bba807",
   "metadata": {},
   "outputs": [],
   "source": []
  }
 ],
 "metadata": {
  "kernelspec": {
   "display_name": "Python 3 (ipykernel)",
   "language": "python",
   "name": "python3"
  },
  "language_info": {
   "codemirror_mode": {
    "name": "ipython",
    "version": 3
   },
   "file_extension": ".py",
   "mimetype": "text/x-python",
   "name": "python",
   "nbconvert_exporter": "python",
   "pygments_lexer": "ipython3",
   "version": "3.12.7"
  }
 },
 "nbformat": 4,
 "nbformat_minor": 5
}
